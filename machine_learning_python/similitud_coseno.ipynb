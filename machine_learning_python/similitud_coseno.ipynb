{
  "nbformat": 4,
  "nbformat_minor": 0,
  "metadata": {
    "colab": {
      "provenance": []
    },
    "kernelspec": {
      "name": "python3",
      "display_name": "Python 3"
    },
    "language_info": {
      "name": "python"
    }
  },
  "cells": [
    {
      "cell_type": "markdown",
      "source": [
        "@author: Octavio Gutiérrez de Código Máquina\n",
        "\n",
        "URL del canal: https://www.youtube.com/CodigoMaquina\n",
        "\n",
        "URL del video: https://youtu.be/cPFaMiGk5J0\n",
        "\n",
        "# <b>Similitud Coseno</b>\n",
        "### *La similitud coseno es una métrica que nos índica qué tan similares son dos vectores en función del coseno del ángulo entre ellos* (Sarkar, 2016).\n",
        "\n",
        "**Referencia**\n",
        "\n",
        "Sarkar, D. (2016). Text analytics with python (Vol. 2). New York, NY, USA : Apress.\n"
      ],
      "metadata": {
        "id": "v8GDdSoorjR-"
      }
    },
    {
      "cell_type": "code",
      "execution_count": null,
      "metadata": {
        "colab": {
          "base_uri": "https://localhost:8080/"
        },
        "id": "2-YilT9L8YRo",
        "outputId": "77780939-a96e-4e6b-8158-8b3a7e101993"
      },
      "outputs": [
        {
          "output_type": "execute_result",
          "data": {
            "text/plain": [
              "0.9838699100999074"
            ]
          },
          "metadata": {},
          "execution_count": 1
        }
      ],
      "source": [
        "import numpy as np\n",
        "from numpy import dot\n",
        "from numpy.linalg import norm\n",
        "\n",
        "def similitud_coseno(a, b):\n",
        "    return dot(a, b) / (norm(a)*norm(b))\n",
        "\n",
        "# Ejemplo:\n",
        "a = np.array([1, 2])\n",
        "b = np.array([3, 4])\n",
        "\n",
        "similitud_coseno(a, b)"
      ]
    }
  ]
}