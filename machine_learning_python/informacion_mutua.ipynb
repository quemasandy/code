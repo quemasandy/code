{
 "cells": [
  {
   "cell_type": "markdown",
   "metadata": {},
   "source": [
    "@author: Octavio Gutiérrez de Código Máquina \n",
    "\n",
    "URL del canal: https://www.youtube.com/CodigoMaquina \n",
    "\n",
    "URL del video: https://youtu.be/37b9eyl4Q1c\n",
    "\n",
    "<h1 style=\"color:purple\">Información Mutua: <span style=\"color:#E75480\">Hipertensión</span> </h1> "
   ]
  },
  {
   "cell_type": "code",
   "execution_count": 1,
   "metadata": {},
   "outputs": [
    {
     "name": "stdout",
     "output_type": "stream",
     "text": [
      "Información mutua: [0.07567111 0.63651417]\n"
     ]
    }
   ],
   "source": [
    "import numpy as np\n",
    "from math import log\n",
    "from sklearn.feature_selection import mutual_info_classif\n",
    "\n",
    "# vejez ->       0 : No    1 : Sí\n",
    "# sobrepeso ->   0 : No    1 : Sí\n",
    "\n",
    "# [vejez, sobrepeso]\n",
    "\n",
    "X = np.array([[0, 0],\n",
    "              [1, 0],\n",
    "              [1, 1],\n",
    "              [1, 0],\n",
    "              [1, 1],\n",
    "              [1, 0]])\n",
    "\n",
    "# Hipertensión ->  0 : No    1 : Sí\n",
    "y = np.array([0, 0, 1, 0, 1, 0])\n",
    "\n",
    "print(\"Información mutua:\", \n",
    "      mutual_info_classif(X, y, discrete_features=True))"
   ]
  },
  {
   "cell_type": "markdown",
   "metadata": {},
   "source": [
    "<h1 style=\"color:purple\">Cálculo manual: <span style=\"color:#E75480\"> Vejez e Hipertensión</span>  </h1> "
   ]
  },
  {
   "cell_type": "code",
   "execution_count": 2,
   "metadata": {},
   "outputs": [
    {
     "data": {
      "text/plain": [
       "0.0756711124537657"
      ]
     },
     "execution_count": 2,
     "metadata": {},
     "output_type": "execute_result"
    }
   ],
   "source": [
    "((1/6) * log((1/6) / ((1/6)*(4/6))) + \n",
    "#(0/6) * log((0/6) / ((1/6)*(2/6))) + \n",
    "(3/6) * log((3/6) / ((5/6)*(4/6))) + \n",
    "(2/6) * log((2/6) / ((5/6)*(2/6)))) "
   ]
  },
  {
   "cell_type": "markdown",
   "metadata": {},
   "source": [
    "<h1 style=\"color:purple\">Cálculo manual: <span style=\"color:#E75480\"> Sobrepeso e Hipertensión</span>  </h1> "
   ]
  },
  {
   "cell_type": "code",
   "execution_count": 3,
   "metadata": {},
   "outputs": [
    {
     "data": {
      "text/plain": [
       "0.6365141682948128"
      ]
     },
     "execution_count": 3,
     "metadata": {},
     "output_type": "execute_result"
    }
   ],
   "source": [
    "((4/6) * log((4/6) / ((4/6)*(4/6))) + \n",
    "#(0/6) * log((0/6) / ((4/6)*(2/6))) + \n",
    "#(0/6) * log((0/6) / ((2/6)*(4/6))) + \n",
    "(2/6) * log((2/6) / ((2/6)*(2/6))))  "
   ]
  }
 ],
 "metadata": {
  "kernelspec": {
   "display_name": "Python 3 (ipykernel)",
   "language": "python",
   "name": "python3"
  },
  "language_info": {
   "codemirror_mode": {
    "name": "ipython",
    "version": 3
   },
   "file_extension": ".py",
   "mimetype": "text/x-python",
   "name": "python",
   "nbconvert_exporter": "python",
   "pygments_lexer": "ipython3",
   "version": "3.9.13"
  }
 },
 "nbformat": 4,
 "nbformat_minor": 4
}
