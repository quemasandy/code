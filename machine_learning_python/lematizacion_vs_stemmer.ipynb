{
  "nbformat": 4,
  "nbformat_minor": 0,
  "metadata": {
    "colab": {
      "provenance": []
    },
    "kernelspec": {
      "name": "python3",
      "display_name": "Python 3"
    },
    "language_info": {
      "name": "python"
    }
  },
  "cells": [
    {
      "cell_type": "markdown",
      "source": [
        "@author: Octavio Gutiérrez de Código Máquina\n",
        "\n",
        "URL del canal: https://www.youtube.com/CodigoMaquina\n",
        "\n",
        "URL del video: https://youtu.be/ATkek5eEnlk\n",
        "# Derivación de Raíces VS Lematización"
      ],
      "metadata": {
        "id": "ZRlSDsKkTEnw"
      }
    },
    {
      "cell_type": "markdown",
      "source": [
        "## Derivación de raíces (Stemmer) con NLTK"
      ],
      "metadata": {
        "id": "mg_9-ElUREnS"
      }
    },
    {
      "cell_type": "code",
      "source": [
        "from nltk.stem.snowball import SnowballStemmer\n",
        "\n",
        "# Stemmer para Español\n",
        "stemmer = SnowballStemmer(\"spanish\")\n",
        "\n",
        "texto_ejemplo = \"estuviste estuvieron estoy estamos estaban casas casos\"\n",
        "\n",
        "# Impresión de raíces\n",
        "for palabra in texto_ejemplo.split():\n",
        "  print(palabra, \"->\", stemmer.stem(palabra))"
      ],
      "metadata": {
        "colab": {
          "base_uri": "https://localhost:8080/"
        },
        "id": "US75B3azRBhT",
        "outputId": "7def1c61-0fa4-4f9a-c118-5701d156d48d"
      },
      "execution_count": 1,
      "outputs": [
        {
          "output_type": "stream",
          "name": "stdout",
          "text": [
            "estuviste -> estuv\n",
            "estuvieron -> estuv\n",
            "estoy -> estoy\n",
            "estamos -> estam\n",
            "estaban -> estab\n",
            "casas -> cas\n",
            "casos -> cas\n"
          ]
        }
      ]
    },
    {
      "cell_type": "markdown",
      "source": [
        "## Lematización con Spacy"
      ],
      "metadata": {
        "id": "-cjNRqyARKTq"
      }
    },
    {
      "cell_type": "code",
      "source": [
        "import spacy\n",
        "\n",
        "# Descargar el modelo de texto en Español (solo la primera vez)\n",
        "!python -m spacy download \"es_core_news_lg\"\n",
        "\n",
        "# Cargar modelo de texto en Español\n",
        "nlp = spacy.load(\"es_core_news_lg\")\n",
        "\n",
        "texto_ejemplo = \"estuviste estuvieron estoy estamos estaban casas casos\"\n",
        "\n",
        "# Procesar texto con el modelo\n",
        "documento = nlp(texto_ejemplo)\n",
        "\n",
        "# Impresión de lemas\n",
        "for palabra in documento:\n",
        "    print(palabra.text, \"->\", palabra.lemma_)"
      ],
      "metadata": {
        "colab": {
          "base_uri": "https://localhost:8080/"
        },
        "id": "oNuNallXRKqG",
        "outputId": "e068dd58-0150-4b1e-aa28-82b3aa829316"
      },
      "execution_count": 4,
      "outputs": [
        {
          "output_type": "stream",
          "name": "stdout",
          "text": [
            "estuviste -> estar\n",
            "estuvieron -> estar\n",
            "estoy -> estar\n",
            "estamos -> estar\n",
            "estaban -> estar\n",
            "casas -> casa\n",
            "casos -> caso\n"
          ]
        }
      ]
    }
  ]
}