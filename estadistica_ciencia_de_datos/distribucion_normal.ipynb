{
 "cells": [
  {
   "cell_type": "markdown",
   "metadata": {},
   "source": [
    "@author: Octavio Gutiérrez de Código Máquina\n",
    "\n",
    "URL del canal: https://www.youtube.com/CodigoMaquina\n",
    "\n",
    "URL del video: https://youtu.be/GUF-1i9L6JI\n",
    "\n",
    "<h1 style=\"color:purple\">Regla Empírica 68-95-99.7</h1>\n",
    "<h1 style=\"color:purple\">de la Distribución Normal</h1>\n"
   ]
  },
  {
   "cell_type": "code",
   "execution_count": 1,
   "metadata": {},
   "outputs": [
    {
     "data": {
      "image/png": "[encoded data removed]",
      "text/plain": [
       "<Figure size 648x252 with 1 Axes>"
      ]
     },
     "metadata": {},
     "output_type": "display_data"
    },
    {
     "name": "stdout",
     "output_type": "stream",
     "text": [
      "\n",
      "*** Regla Empírica 68-95-99.7 de la Distribución Normal ***\n",
      "\n",
      "162 - 178 cm\t 154 - 186 cm\t 146 - 194 cm\n",
      "68.092 %\t 95.541 %\t 99.762 %\t\n"
     ]
    }
   ],
   "source": [
    "import numpy as np \n",
    "import matplotlib.pyplot as plt\n",
    "\n",
    "# altura promedio\n",
    "mu = 170 \n",
    "\n",
    "# desviación estándar\n",
    "sigma = 8 \n",
    "\n",
    "# generación de 100 mil alturas aleatorias\n",
    "n = 100000\n",
    "alturas = np.random.normal(mu, sigma, n)\n",
    "\n",
    "# Creación de histograma\n",
    "plt.figure(figsize=(9,3.5))\n",
    "conteo, x, barras = plt.hist(alturas, 100, density=True, \n",
    "                             color=\"pink\", alpha=0.7)\n",
    "\n",
    "# Campana utilizando la función de densidad de probabilidad\n",
    "plt.plot(x,\n",
    "         1 / (sigma*np.sqrt(2*np.pi)) * np.exp(-0.5*((x-mu)/sigma)**2),\n",
    "         linewidth=1, color=\"purple\")\n",
    "\n",
    "# Dibujando las desviaciones estándar y la media\n",
    "sigmas = [mu - 3*sigma, mu - 2*sigma, mu - sigma, mu,\n",
    "          mu + sigma, mu + 2*sigma, mu + 3*sigma]\n",
    "for s in sigmas:\n",
    "    plt.axvline(s, color = \"teal\", linewidth=1.5, linestyle=\"dashed\")\n",
    "\n",
    "plt.yticks([]) \n",
    "plt.xticks([]) \n",
    "plt.box(False)\n",
    "plt.show()\n",
    "\n",
    "print(\"\\n*** Regla Empírica 68-95-99.7 de la Distribución Normal ***\\n\")\n",
    "print(mu - sigma, \"-\", mu + sigma, \"cm\\t\", \n",
    "      mu - 2*sigma, \"-\", mu + 2*sigma, \"cm\\t\",\n",
    "      mu - 3*sigma, \"-\", mu + 3*sigma, \"cm\")\n",
    "print((np.where(((mu - sigma) < alturas) & \n",
    "                (alturas < (mu + sigma)), 1, 0).sum()*100)/n, \"%\\t\",  \n",
    "      (np.where(((mu - 2*sigma) < alturas) & \n",
    "                (alturas < (mu + 2*sigma)), 1, 0).sum()*100)/n, \"%\\t\",  \n",
    "      (np.where(((mu - 3*sigma) < alturas) & \n",
    "                (alturas < (mu + 3*sigma)), 1, 0).sum()*100)/n, \"%\\t\")"
   ]
  }
 ],
 "metadata": {
  "kernelspec": {
   "display_name": "Python 3 (ipykernel)",
   "language": "python",
   "name": "python3"
  },
  "language_info": {
   "codemirror_mode": {
    "name": "ipython",
    "version": 3
   },
   "file_extension": ".py",
   "mimetype": "text/x-python",
   "name": "python",
   "nbconvert_exporter": "python",
   "pygments_lexer": "ipython3",
   "version": "3.9.7"
  }
 },
 "nbformat": 4,
 "nbformat_minor": 4
}
