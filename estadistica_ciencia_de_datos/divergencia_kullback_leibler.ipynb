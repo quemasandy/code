{
 "cells": [
  {
   "cell_type": "markdown",
   "metadata": {},
   "source": [
    "@author: Octavio Gutiérrez de Código Máquina \n",
    "\n",
    "URL del canal: https://www.youtube.com/CodigoMaquina \n",
    "\n",
    "URL del video: https://youtu.be/dhZgwDjxpvM \n",
    "\n",
    "<h1 style=\"color:purple\">Divergencia Kullback-Leibler<br><br><span style=\"color:#E75480\">(Entropia Relativa)</span> </h1> "
   ]
  },
  {
   "cell_type": "code",
   "execution_count": 1,
   "metadata": {
    "scrolled": true
   },
   "outputs": [
    {
     "name": "stdout",
     "output_type": "stream",
     "text": [
      "Divergencia KL (P||Q) = 0.37230199231101213\n",
      "Divergencia KL (Q||P) = 0.4676692513757448\n",
      "Divergencia KL (P||Q) = 0.37230199231101213\n",
      "Divergencia KL (Q||P) = 0.4676692513757448\n"
     ]
    }
   ],
   "source": [
    "from math import log\n",
    "from scipy.special import rel_entr\n",
    "\n",
    "# Distribución de las respuestas de las encuestas de turismo\n",
    "p = [0.35, 0.05, 0.40, 0.20]\n",
    "q = [0.15, 0.30, 0.20, 0.35]\n",
    "\n",
    "# Divergencia KL con scipy \n",
    "print(\"Divergencia KL (P||Q) =\", sum(rel_entr(p, q)))\n",
    "print(\"Divergencia KL (Q||P) =\", sum(rel_entr(q, p)))\n",
    "\n",
    "# Divergencia KL paso a paso\n",
    "print(\"Divergencia KL (P||Q) =\",\n",
    "      p[0]*log(p[0]/q[0])+\n",
    "      p[1]*log(p[1]/q[1])+\n",
    "      p[2]*log(p[2]/q[2])+\n",
    "      p[3]*log(p[3]/q[3]))\n",
    "\n",
    "print(\"Divergencia KL (Q||P) =\",\n",
    "      q[0]*log(q[0]/p[0])+\n",
    "      q[1]*log(q[1]/p[1])+\n",
    "      q[2]*log(q[2]/p[2])+\n",
    "      q[3]*log(q[3]/p[3]))"
   ]
  }
 ],
 "metadata": {
  "kernelspec": {
   "display_name": "Python 3 (ipykernel)",
   "language": "python",
   "name": "python3"
  },
  "language_info": {
   "codemirror_mode": {
    "name": "ipython",
    "version": 3
   },
   "file_extension": ".py",
   "mimetype": "text/x-python",
   "name": "python",
   "nbconvert_exporter": "python",
   "pygments_lexer": "ipython3",
   "version": "3.9.13"
  }
 },
 "nbformat": 4,
 "nbformat_minor": 4
}
