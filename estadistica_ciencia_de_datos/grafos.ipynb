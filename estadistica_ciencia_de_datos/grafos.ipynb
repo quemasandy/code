{
  "nbformat": 4,
  "nbformat_minor": 0,
  "metadata": {
    "colab": {
      "provenance": []
    },
    "kernelspec": {
      "name": "python3",
      "display_name": "Python 3"
    },
    "language_info": {
      "name": "python"
    }
  },
  "cells": [
    {
      "cell_type": "markdown",
      "source": [
        "@author: Octavio Gutiérrez de Código Máquina\n",
        "\n",
        "URL del canal: https://www.youtube.com/CodigoMaquina\n",
        "\n",
        "URL del video: https://youtu.be/HYGd2UMRb-o"
      ],
      "metadata": {
        "id": "bD9BJkZI0uGZ"
      }
    },
    {
      "cell_type": "markdown",
      "source": [
        "# Creación de grafos y digrafos con NetworkX\n",
        "### Librerías"
      ],
      "metadata": {
        "id": "B_vsOWNaz2gE"
      }
    },
    {
      "cell_type": "code",
      "execution_count": 1,
      "metadata": {
        "id": "_Sz9snIpzAUA"
      },
      "outputs": [],
      "source": [
        "import networkx as nx\n",
        "import matplotlib.pyplot as plt"
      ]
    },
    {
      "cell_type": "markdown",
      "source": [
        "# Grafos no dirigidos\n",
        "\n"
      ],
      "metadata": {
        "id": "eEKSDfSBz81V"
      }
    },
    {
      "cell_type": "markdown",
      "source": [
        "### Creación del grafo"
      ],
      "metadata": {
        "id": "QwFjSYO28JTU"
      }
    },
    {
      "cell_type": "code",
      "source": [
        "grafo = nx.Graph()\n",
        "\n",
        "# Agregando vértices/nodos\n",
        "grafo.add_nodes_from([\"maria\", \"luis\", \"claudia\", \"pedro\"])\n",
        "\n",
        "# Agregando aristas\n",
        "grafo.add_edge(\"maria\", \"luis\", weight=4)\n",
        "grafo.add_edge(\"maria\", \"claudia\", weight=10)\n",
        "grafo.add_edge(\"luis\", \"pedro\", weight=2)\n",
        "grafo.add_edge(\"pedro\", \"maria\", weight=3)"
      ],
      "metadata": {
        "id": "PpPUq_7Pz2RI"
      },
      "execution_count": 2,
      "outputs": []
    },
    {
      "cell_type": "markdown",
      "source": [
        "### Propiedades básicas"
      ],
      "metadata": {
        "id": "Mz3zu4tn8k88"
      }
    },
    {
      "cell_type": "code",
      "source": [
        "# Número de vértices y aristas\n",
        "print(\"Número de vértices:\", grafo.number_of_nodes())\n",
        "print(\"Número de aristas:\", grafo.number_of_edges())\n",
        "\n",
        "# Lista de vértices\n",
        "print(\"Vértices:\", grafo.nodes)\n",
        "\n",
        "# Lista de aristas\n",
        "print(\"Aristas:\", grafo.edges)"
      ],
      "metadata": {
        "colab": {
          "base_uri": "https://localhost:8080/"
        },
        "id": "hIujJXxx8k0t",
        "outputId": "827d329f-b2b4-4101-a788-bcc2cbc1f318"
      },
      "execution_count": 3,
      "outputs": [
        {
          "output_type": "stream",
          "name": "stdout",
          "text": [
            "Número de vértices: 4\n",
            "Número de aristas: 4\n",
            "Vértices: ['maria', 'luis', 'claudia', 'pedro']\n",
            "Aristas: [('maria', 'luis'), ('maria', 'claudia'), ('maria', 'pedro'), ('luis', 'pedro')]\n"
          ]
        }
      ]
    },
    {
      "cell_type": "markdown",
      "source": [
        "### Visualización del grafo no dirigido"
      ],
      "metadata": {
        "id": "EoVRsWPU7bgX"
      }
    },
    {
      "cell_type": "code",
      "source": [
        "plt.figure(figsize=(3, 3))\n",
        "\n",
        "# Posiciona adecuadamente los vertices -> (x, y)\n",
        "posiciones = nx.spring_layout(grafo, seed=10)\n",
        "\n",
        "# Extrae los pesos de las aristas\n",
        "pesos = nx.get_edge_attributes(grafo, \"weight\")\n",
        "\n",
        "# Dibuja los vértices en las posiciones adecuadas\n",
        "nx.draw(grafo, posiciones, with_labels=True)\n",
        "\n",
        "# Dibuja las etiquetas de las aristas en las posiciones adecuadas\n",
        "nx.draw_networkx_edge_labels(grafo, posiciones, edge_labels=pesos)\n",
        "\n",
        "plt.show()"
      ],
      "metadata": {
        "colab": {
          "base_uri": "https://localhost:8080/",
          "height": 337
        },
        "id": "2TBS_fdq7evE",
        "outputId": "2572bd56-9441-4ad3-bea2-7dbe01a39730"
      },
      "execution_count": 4,
      "outputs": [
        {
          "output_type": "display_data",
          "data": {
            "text/plain": [
              "<Figure size 300x300 with 1 Axes>"
            ],
            "image/png": "[encoded data removed]"
          },
          "metadata": {}
        }
      ]
    },
    {
      "cell_type": "markdown",
      "source": [
        "# Grafos dirigidos o Digrafos"
      ],
      "metadata": {
        "id": "dq3nNQgo851P"
      }
    },
    {
      "cell_type": "code",
      "source": [
        "digrafo = nx.DiGraph()\n",
        "\n",
        "# Agregando vértices/nodos\n",
        "digrafo.add_nodes_from([\"maria\", \"luis\", \"claudia\", \"famos@\"])\n",
        "\n",
        "# Agregando aristas\n",
        "digrafo.add_edge(\"maria\", \"famos@\")\n",
        "digrafo.add_edge(\"luis\", \"famos@\")\n",
        "digrafo.add_edge(\"claudia\", \"famos@\")"
      ],
      "metadata": {
        "id": "2hxZspy_9d1T"
      },
      "execution_count": 5,
      "outputs": []
    },
    {
      "cell_type": "markdown",
      "source": [
        "### Visualización del Digrafo"
      ],
      "metadata": {
        "id": "Pd0BjScsBCKQ"
      }
    },
    {
      "cell_type": "code",
      "source": [
        "plt.figure(figsize=(3, 3))\n",
        "\n",
        "# Posiciona adecuadamente los vertices -> (x, y)\n",
        "posiciones = nx.spring_layout(digrafo, seed=1)\n",
        "\n",
        "# Dibuja los vértices en las posiciones adecuadas\n",
        "nx.draw(digrafo, posiciones, with_labels=True)\n",
        "\n",
        "plt.show()"
      ],
      "metadata": {
        "colab": {
          "base_uri": "https://localhost:8080/",
          "height": 337
        },
        "id": "SbchruecA6Gf",
        "outputId": "b1d15ccb-c7a9-4f02-b74a-c32a518429cf"
      },
      "execution_count": 6,
      "outputs": [
        {
          "output_type": "display_data",
          "data": {
            "text/plain": [
              "<Figure size 300x300 with 1 Axes>"
            ],
            "image/png": "[encoded data removed]"
          },
          "metadata": {}
        }
      ]
    }
  ]
}