{
 "cells": [
  {
   "attachments": {},
   "cell_type": "markdown",
   "metadata": {},
   "source": [
    "@author: Octavio Gutiérrez de Código Máquina \n",
    "\n",
    "URL del canal: https://www.youtube.com/CodigoMaquina \n",
    "\n",
    "URL del video: https://youtu.be/D_LVz9exvl4\n",
    "\n",
    "<h1 style=\"color:purple\">Datos Categóricos Ordinales</h1> \n",
    "<h2 style=\"color:deeppink\">Medidas de Tendencia Central</h2> "
   ]
  },
  {
   "cell_type": "code",
   "execution_count": 1,
   "metadata": {},
   "outputs": [
    {
     "name": "stdout",
     "output_type": "stream",
     "text": [
      "Moda(s): 0    5\n",
      "dtype: int64 Mediana: 3.0\n"
     ]
    }
   ],
   "source": [
    "import pandas as pd \n",
    "\n",
    "# Muy Insatisfecho (MI)\n",
    "# Insatisfecho (I)\n",
    "# Neutral (N)\n",
    "# Satisfecho (S)\n",
    "# Muy Satisfecho (MS)\n",
    "\n",
    "datos = pd.Series([\"MI\", \"MI\", \"MI\", \"MI\", \n",
    "                   \"I\", \"I\", \"I\", \"I\", \n",
    "                   \"N\", \"N\", \"N\", \n",
    "                   \"S\", \"S\", \"S\", \n",
    "                   \"MS\", \"MS\", \"MS\", \"MS\", \"MS\"])\n",
    "\n",
    "remplazos = {\"MI\" : 1, \"I\" : 2, \"N\" : 3, \"S\" : 4, \"MS\" : 5}\n",
    "\n",
    "datos.replace(to_replace=remplazos, inplace=True)\n",
    "\n",
    "print(\"Moda(s):\", datos.mode(), \"Mediana:\", datos.median())"
   ]
  }
 ],
 "metadata": {
  "kernelspec": {
   "display_name": "Python 3 (ipykernel)",
   "language": "python",
   "name": "python3"
  },
  "language_info": {
   "codemirror_mode": {
    "name": "ipython",
    "version": 3
   },
   "file_extension": ".py",
   "mimetype": "text/x-python",
   "name": "python",
   "nbconvert_exporter": "python",
   "pygments_lexer": "ipython3",
   "version": "3.9.13"
  }
 },
 "nbformat": 4,
 "nbformat_minor": 4
}
