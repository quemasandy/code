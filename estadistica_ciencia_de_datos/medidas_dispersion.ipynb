{
 "cells": [
  {
   "cell_type": "markdown",
   "metadata": {},
   "source": [
    "@author: Octavio Gutiérrez de Código Máquina\n",
    "\n",
    "URL del canal: https://www.youtube.com/CodigoMaquina\n",
    "\n",
    "URL del video: https://youtu.be/-O9E8f7ibfE\n",
    "\n",
    "<h1 style=\"color:purple\"> Medidas de Dispersión con Numpy </h1>"
   ]
  },
  {
   "cell_type": "code",
   "execution_count": 1,
   "metadata": {},
   "outputs": [
    {
     "name": "stdout",
     "output_type": "stream",
     "text": [
      "Rango: 165\n",
      "Varianza poblacional: 2295.0617283950614\n",
      "Varianza muestral: 2581.9444444444443\n",
      "Desviación estándar poblacional: 47.90680252735577\n",
      "Desviación estándar muestral: 50.812837398087154\n",
      "Rango intercuartílico: 55.0\n"
     ]
    }
   ],
   "source": [
    "import numpy as np\n",
    "  \n",
    "# Contexto: levantamiento de pesas\n",
    "pesos = [5, 15, 25, 35, 40, 55, 80, 90, 170]\n",
    " \n",
    "print(\"Rango:\", np.max(pesos) - np.min(pesos))\n",
    "\n",
    "print(\"Varianza poblacional:\", np.var(pesos))\n",
    "print(\"Varianza muestral:\", np.var(pesos, ddof=1))\n",
    "\n",
    "print(\"Desviación estándar poblacional:\", np.std(pesos))\n",
    "print(\"Desviación estándar muestral:\", np.std(pesos, ddof=1))\n",
    "\n",
    "#Cálculo del rango intercuartílico\n",
    "Q1 = np.percentile(pesos, 25)\n",
    "Q3 = np.percentile(pesos, 75)\n",
    "print(\"Rango intercuartílico:\", Q3 - Q1)"
   ]
  }
 ],
 "metadata": {
  "kernelspec": {
   "display_name": "Python 3 (ipykernel)",
   "language": "python",
   "name": "python3"
  },
  "language_info": {
   "codemirror_mode": {
    "name": "ipython",
    "version": 3
   },
   "file_extension": ".py",
   "mimetype": "text/x-python",
   "name": "python",
   "nbconvert_exporter": "python",
   "pygments_lexer": "ipython3",
   "version": "3.9.7"
  }
 },
 "nbformat": 4,
 "nbformat_minor": 4
}
