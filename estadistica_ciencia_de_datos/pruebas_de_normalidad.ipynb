{
  "nbformat": 4,
  "nbformat_minor": 0,
  "metadata": {
    "colab": {
      "provenance": []
    },
    "kernelspec": {
      "name": "python3",
      "display_name": "Python 3"
    },
    "language_info": {
      "name": "python"
    }
  },
  "cells": [
    {
      "cell_type": "markdown",
      "source": [
        "@author: Octavio Gutiérrez de Código Máquina\n",
        "\n",
        "URL del canal: https://www.youtube.com/CodigoMaquina\n",
        "\n",
        "URL del video: https://youtu.be/GJRkLs0UqEc\n",
        "\n",
        "# Shapiro-Wilk & Kolmogorov-Smirnov\n",
        "## Pruebas de Normalidad\n",
        "### Ejemplo de Distribución Normal\n",
        "#### 10 mil alturas de personas"
      ],
      "metadata": {
        "id": "-TEuk7dU2Enp"
      }
    },
    {
      "cell_type": "code",
      "execution_count": null,
      "metadata": {
        "id": "ylOdOvYOzu3A"
      },
      "outputs": [],
      "source": [
        "import numpy as np\n",
        "from scipy import stats\n",
        "import warnings\n",
        "\n",
        "warnings.filterwarnings(\"ignore\")\n",
        "\n",
        "# semilla para reproducibilidad\n",
        "np.random.seed(5)\n",
        "\n",
        "# altura promedio\n",
        "mu = 170\n",
        "# desviación estándar\n",
        "sigma = 8\n",
        "# generación de 10 mil alturas aleatorias\n",
        "n = 10000\n",
        "alturas = np.random.normal(mu, sigma, n)"
      ]
    },
    {
      "cell_type": "markdown",
      "source": [
        "### Ejemplo de Distribución Exponencial\n",
        "#### 10 mil tiempos entre llamadas"
      ],
      "metadata": {
        "id": "IQKR6IHN2Rpo"
      }
    },
    {
      "cell_type": "code",
      "source": [
        "# Generación de 10 mil tiempos entre llamadas\n",
        "n = 10000\n",
        "# Tiempo promedio entre llamadas de clientes\n",
        "beta = 5\n",
        "tiempos = np.random.exponential(scale=beta, size=n)"
      ],
      "metadata": {
        "id": "36Ujpo7V2SPQ"
      },
      "execution_count": null,
      "outputs": []
    },
    {
      "cell_type": "markdown",
      "source": [
        " # Prueba Shapiro-Wilk"
      ],
      "metadata": {
        "id": "gCoOJBqf6O9b"
      }
    },
    {
      "cell_type": "code",
      "source": [
        "# Hipótesis Nula (H0): La muestra proviene de una población\n",
        "# distribuida normalmente (Mishra et al., 2019)\n",
        "# Hipótesis Alternativa (H1): La muestra NO proviene de una población\n",
        "# distribuida normalmente (Mishra et al., 2019)\n",
        "# Para muestras provenientes de una distribución normal,\n",
        "# el valor del estadístico de prueba W se aproxima a 1\n",
        "print(\"La muestra ALTURAS 'pasa' (valor p >= 0.05) la prueba de normalidad\",\n",
        "      stats.shapiro(alturas))\n",
        "print(\"La muestra TIEMPOS 'no pasa' (valor p < 0.05) la prueba de normalidad\",\n",
        "      stats.shapiro(tiempos))"
      ],
      "metadata": {
        "colab": {
          "base_uri": "https://localhost:8080/"
        },
        "id": "VhXRFnea6QHL",
        "outputId": "83ea8951-3b03-413a-9bbd-df0bb7383a66"
      },
      "execution_count": null,
      "outputs": [
        {
          "output_type": "stream",
          "name": "stdout",
          "text": [
            "La muestra ALTURAS 'pasa' (valor p >= 0.05) la prueba de normalidad ShapiroResult(statistic=0.9997878670692444, pvalue=0.4417445957660675)\n",
            "La muestra TIEMPOS 'no pasa' (valor p < 0.05) la prueba de normalidad ShapiroResult(statistic=0.808997631072998, pvalue=0.0)\n"
          ]
        }
      ]
    },
    {
      "cell_type": "markdown",
      "source": [
        "# Prueba Kolmogorov-Smirnov"
      ],
      "metadata": {
        "id": "9ptCPo597eq_"
      }
    },
    {
      "cell_type": "code",
      "source": [
        "# Hipótesis Nula (H0): La muestra proviene de una población\n",
        "# distribuida normalmente (Mishra et al., 2019)\n",
        "# Hipótesis Alternativa (H1): La muestra NO proviene de una población\n",
        "# distribuida normalmente (Mishra et al., 2019)\n",
        "# Se estandarizan las alturas\n",
        "print(\"La muestra ALTURAS 'pasa' (valor p >= 0.05) la prueba de normalidad\",\n",
        "      stats.kstest((alturas-alturas.mean())/alturas.std(), stats.norm.cdf))\n",
        "# Se estandarizan los tiempos\n",
        "print(\"La muestra TIEMPOS 'no pasa' (valor p < 0.05) la prueba de normalidad\",\n",
        "       stats.kstest((tiempos-tiempos.mean())/tiempos.std(), stats.norm.cdf))"
      ],
      "metadata": {
        "colab": {
          "base_uri": "https://localhost:8080/"
        },
        "id": "ZLdUwzDX7cF5",
        "outputId": "a92a8961-7232-4518-a04b-f50d7830ed03"
      },
      "execution_count": null,
      "outputs": [
        {
          "output_type": "stream",
          "name": "stdout",
          "text": [
            "La muestra ALTURAS 'pasa' (valor p >= 0.05) la prueba de normalidad KstestResult(statistic=0.007290021030465166, pvalue=0.659771609272426, statistic_location=0.1875620754622093, statistic_sign=-1)\n",
            "La muestra TIEMPOS 'no pasa' (valor p < 0.05) la prueba de normalidad KstestResult(statistic=0.1601927910942244, pvalue=1.1899944234883226e-224, statistic_location=-0.993665832662915, statistic_sign=-1)\n"
          ]
        }
      ]
    },
    {
      "cell_type": "markdown",
      "source": [
        "<BR><BR><BR>\n",
        "# Shapiro-Wilk **VERSUS** Kolmogorov-Smirnov\n",
        "## ¿Cuál debo utilizar?\n",
        "\n",
        "\n",
        "* **Shapiro-Wilk es la más poderosa para todos los tamaños de muestras**  *(Razali & Wah, 2011)*\n",
        "\n",
        "* **Kolmogorov-Smirnov es la menos poderosa** *(Razali & Wah, 2011)*\n",
        "\n",
        "* **Kolmogorov-Smirnov [..] lleva a errores sistemáticos y drásticos** *(Steinskog et al., 2007)*\n",
        "\n",
        "* **Shapiro-Wilk es más apropiada para muestras pequeñas (n < 50), aunque también se utiliza en muestras de mayor tamaño, mientras que Kolmogorov-Smirnov se utiliza para n >= 50** *(Mishra et al. 2019)*.\n",
        "\n",
        "<BR><BR><BR><BR>"
      ],
      "metadata": {
        "id": "xq9dFYbyiZre"
      }
    },
    {
      "cell_type": "markdown",
      "source": [
        "# Referencias\n",
        "\n",
        "* Mishra, P., Pandey, C. M., Singh, U., Gupta, A., Sahu, C., & Keshri, A. (2019). Descriptive statistics and normality tests for statistical data. Annals of cardiac anaesthesia, 22(1), 67.\n",
        "\n",
        "* Razali, N. M., & Wah, Y. B. (2011). Power comparisons of shapiro-wilk, kolmogorov-smirnov, lilliefors and anderson-darling tests. Journal of statistical modeling and analytics, 2(1), 21-33.\n",
        "\n",
        "* Steinskog, D. J., Tjøstheim, D. B., & Kvamstø, N. G. (2007). A cautionary note on the use of the Kolmogorov–Smirnov test for normality. Monthly Weather Review, 135(3), 1151-1157."
      ],
      "metadata": {
        "id": "3B7-QLz6aQTj"
      }
    }
  ]
}