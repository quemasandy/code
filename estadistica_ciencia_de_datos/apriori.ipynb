{
 "cells": [
  {
   "cell_type": "markdown",
   "metadata": {},
   "source": [
    "@author: Octavio Gutiérrez de Código Máquina \n",
    "\n",
    "URL del canal: https://www.youtube.com/CodigoMaquina \n",
    "\n",
    "URL del video: https://youtu.be/IdvqFfMP7bI\n",
    "\n",
    "<h3 style=\"color:purple\">Reglas de Asociación: </h3> \n",
    "<h1 style=\"color:#E75480\">Algoritmo Apriori</h1> "
   ]
  },
  {
   "cell_type": "code",
   "execution_count": 1,
   "metadata": {},
   "outputs": [
    {
     "name": "stdout",
     "output_type": "stream",
     "text": [
      "{HUEVO} -> {CREMA} (conf: 0.667, supp: 0.667, lift: 1.000, conv: 1.000)\n",
      "{CREMA} -> {HUEVO} (conf: 1.000, supp: 0.667, lift: 1.000, conv: 0.000)\n",
      "{LECHE} -> {CREMA} (conf: 0.667, supp: 0.667, lift: 1.000, conv: 1.000)\n",
      "{CREMA} -> {LECHE} (conf: 1.000, supp: 0.667, lift: 1.000, conv: 0.000)\n",
      "{LECHE} -> {HUEVO} (conf: 1.000, supp: 1.000, lift: 1.000, conv: 0.000)\n",
      "{HUEVO} -> {LECHE} (conf: 1.000, supp: 1.000, lift: 1.000, conv: 0.000)\n",
      "{PAN} -> {HUEVO} (conf: 1.000, supp: 0.667, lift: 1.000, conv: 0.000)\n",
      "{HUEVO} -> {PAN} (conf: 0.667, supp: 0.667, lift: 1.000, conv: 1.000)\n",
      "{PAN} -> {LECHE} (conf: 1.000, supp: 0.667, lift: 1.000, conv: 0.000)\n",
      "{LECHE} -> {PAN} (conf: 0.667, supp: 0.667, lift: 1.000, conv: 1.000)\n",
      "{HUEVO, LECHE} -> {CREMA} (conf: 0.667, supp: 0.667, lift: 1.000, conv: 1.000)\n",
      "{CREMA, LECHE} -> {HUEVO} (conf: 1.000, supp: 0.667, lift: 1.000, conv: 0.000)\n",
      "{CREMA, HUEVO} -> {LECHE} (conf: 1.000, supp: 0.667, lift: 1.000, conv: 0.000)\n",
      "{LECHE, PAN} -> {HUEVO} (conf: 1.000, supp: 0.667, lift: 1.000, conv: 0.000)\n",
      "{HUEVO, PAN} -> {LECHE} (conf: 1.000, supp: 0.667, lift: 1.000, conv: 0.000)\n",
      "{HUEVO, LECHE} -> {PAN} (conf: 0.667, supp: 0.667, lift: 1.000, conv: 1.000)\n"
     ]
    }
   ],
   "source": [
    "#!pip install efficient-apriori \n",
    "from efficient_apriori import apriori\n",
    "\n",
    "transacciones = [(\"LECHE\", \"PAN\", \"HUEVO\"),\n",
    "                (\"CEREAL\", \"LECHE\", \"CREMA\", \"HUEVO\"),\n",
    "                (\"LECHE\", \"CREMA\", \"PAN\", \"HUEVO\")]\n",
    "\n",
    "conjuntos, reglas = apriori(transacciones,\n",
    "                            min_support = 0.6,\n",
    "                            min_confidence = 0.6)\n",
    "\n",
    "# Filtrando reglas con consecuente de un elemento\n",
    "reglas = filter(lambda regla: len(regla.rhs) == 1, reglas)\n",
    "\n",
    "for regla in reglas:\n",
    "    print(regla)  "
   ]
  }
 ],
 "metadata": {
  "kernelspec": {
   "display_name": "Python 3 (ipykernel)",
   "language": "python",
   "name": "python3"
  },
  "language_info": {
   "codemirror_mode": {
    "name": "ipython",
    "version": 3
   },
   "file_extension": ".py",
   "mimetype": "text/x-python",
   "name": "python",
   "nbconvert_exporter": "python",
   "pygments_lexer": "ipython3",
   "version": "3.9.13"
  }
 },
 "nbformat": 4,
 "nbformat_minor": 4
}
