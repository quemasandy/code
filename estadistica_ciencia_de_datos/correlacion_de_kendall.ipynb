{
 "cells": [
  {
   "cell_type": "markdown",
   "metadata": {},
   "source": [
    "@author: Octavio Gutiérrez de Código Máquina \n",
    "\n",
    "URL del canal: https://www.youtube.com/CodigoMaquina \n",
    "\n",
    "URL del video: https://youtu.be/qYjICAaUG1Q\n",
    "\n",
    "<h1 style=\"color:purple\">Correlación de Kendall</h1> "
   ]
  },
  {
   "cell_type": "code",
   "execution_count": 1,
   "metadata": {},
   "outputs": [
    {
     "name": "stdout",
     "output_type": "stream",
     "text": [
      "Totalmente de acuerdo: 1.0\n",
      "Totalmente en desacuerdo: -1.0\n",
      "Parcialmente de acuerdo: 0.3333333333333334\n"
     ]
    }
   ],
   "source": [
    "from scipy import stats\n",
    "\n",
    "# {A : 1,  B : 2,  C : 3,  D : 4}\n",
    "\n",
    "ranking1 = [1, 2, 3, 4]\n",
    "ranking2 = [1, 2, 3, 4]\n",
    "resultado = stats.kendalltau(ranking1, ranking2)\n",
    "print(\"Totalmente de acuerdo:\", resultado.correlation)\n",
    "\n",
    "ranking1 = [1, 2, 3, 4]\n",
    "ranking2 = [4, 3, 2, 1]\n",
    "resultado = stats.kendalltau(ranking1, ranking2)\n",
    "print(\"Totalmente en desacuerdo:\", resultado.correlation)\n",
    "\n",
    "ranking1 = [1, 3, 2, 4]\n",
    "ranking2 = [1, 4, 3, 2]\n",
    "resultado = stats.kendalltau(ranking1, ranking2)\n",
    "print(\"Parcialmente de acuerdo:\", resultado.correlation)"
   ]
  }
 ],
 "metadata": {
  "kernelspec": {
   "display_name": "Python 3 (ipykernel)",
   "language": "python",
   "name": "python3"
  },
  "language_info": {
   "codemirror_mode": {
    "name": "ipython",
    "version": 3
   },
   "file_extension": ".py",
   "mimetype": "text/x-python",
   "name": "python",
   "nbconvert_exporter": "python",
   "pygments_lexer": "ipython3",
   "version": "3.9.13"
  }
 },
 "nbformat": 4,
 "nbformat_minor": 4
}
